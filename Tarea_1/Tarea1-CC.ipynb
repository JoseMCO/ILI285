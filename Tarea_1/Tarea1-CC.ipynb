{
 "cells": [
  {
   "cell_type": "markdown",
   "metadata": {},
   "source": [
    "<img src=\"escudo_utfsm.gif\" style=\"float:right;height:100px\">\n",
    "<img src=\"IsotipoDIisocolor.png\" style=\"float:left;height:100px\">\n",
    "<center>\n",
    "    <h1> ILI285/INF285 Computación Científica </h1>\n",
    "    <h1> Tarea N°1: Introducción a Jupyter Notebook </h1>\n",
    "    <h3> [S]cientific [C]omputing [T]eam 2018</h3>\n",
    "</center>\n",
    "\n",
    "<p>\n",
    "<center>_Marzo 2018_ </center>\n",
    "</p>"
   ]
  },
  {
   "cell_type": "markdown",
   "metadata": {},
   "source": [
    "<center>\n",
    "    <strong> José Miguel Castro Opazo </strong>\n",
    "    <br>\n",
    "    <span> jose.castroo.12@sansano.usm.cl </span>\n",
    "    <br>\n",
    "    <span> 201273514-9 </span>\n",
    "</center>"
   ]
  },
  {
   "cell_type": "code",
   "execution_count": 1,
   "metadata": {},
   "outputs": [],
   "source": [
    "%matplotlib inline\n",
    "import numpy as np\n",
    "import matplotlib.pyplot as plt\n",
    "from scipy import linalg\n",
    "import time\n",
    "np.warnings.filterwarnings('ignore')"
   ]
  },
  {
   "cell_type": "markdown",
   "metadata": {},
   "source": [
    "## Introducción"
   ]
  },
  {
   "cell_type": "markdown",
   "metadata": {},
   "source": [
    "El objetivo de este laboratorio es familiarizarse con la herramienta Jupyter notebook, esta es una plataforma web que permite crear y compartir documentos que contienen código fuente, ecuaciones, visualizaciones y texto explicativo.\n",
    "El lenguaje de programación a utilizar será Python, es una buena alternativa debido a que Python posee muchos modulos especializados en algebra lineal, metodos numericos, vizualizcción de datos,etc. "
   ]
  },
  {
   "cell_type": "markdown",
   "metadata": {},
   "source": [
    "En este laboratorio se resolverán distintos problemas de álgebra lineal utilizando dos métodos: haciendo uso del módulo de resolución *solve* de SciPy y utilizando la inversa de la matríz para calcular el vector incógnito. Se estudiarán tanto los tiempos tomados por cada método para resolver el problema como el error de cálculo que estos presentan. Los resultados serán expuestos utilizando distintos tipos de gráficos, los cuales serán generados utilizando *matplotlib*"
   ]
  },
  {
   "cell_type": "markdown",
   "metadata": {},
   "source": [
    "## Pregunta 1 [20 Pts]"
   ]
  },
  {
   "cell_type": "markdown",
   "metadata": {},
   "source": [
    "1) Una farmacia vende 10 frascos de vitamina A, 5 frascos de vitamina C y 25 frascos de vitamina D, todo por un valor de 355 pesos. Además, vende 20 frascos de vitamina A, 10 de vitamina C y 10 de vitamina D por un total de 310 pesos. Por otra parte vende 12 frascos de vitamina A, 4 de vitamina C y 15 de vitamina D por un total de 266 pesos. Encuentra el costo correspondiente a cada frasco de las vitaminas A, C y D."
   ]
  },
  {
   "cell_type": "markdown",
   "metadata": {},
   "source": [
    "2) Se tiene el siguiente sistema de ecuaciones:\n",
    "\n",
    "\\begin{align}\n",
    "6x_1 - 5x_2 - 7x_3 - 4x_4 + 3x_5 + 8x_6 &= -44 \\\\\n",
    "-7x_1 + 4x_2 + 7x_3 + 1x_4 - 3x_5 + 8x_6 &= 8 \\\\\n",
    "6x_1 - 3x_2 + 7x_3 - 6x_4 + 5x_5 - 6x_6 &= 104 \\\\\n",
    "8x_1 - 5x_2 + 7x_3 + x_4 - 6x_5 + 4x_6 &= 44\\\\\n",
    "2x_1 + 8x_2 + 6x_3 + 2x_4 - 8x_5 + 3x_6 &= -47\\\\\n",
    "-2x_1 + 4x_2 + 5x_3 + 7x_4 - 6x_5 - 5x_6 &= 6\n",
    "\\end{align}"
   ]
  },
  {
   "cell_type": "markdown",
   "metadata": {},
   "source": [
    "Represente ambos problemas como un sistema matricial, es decir de la forma $A\\mathbf{x}$ = $ \\mathbf{b}$ , luego encuentre los valores del vector $\\mathbf{x}$: \n",
    "* Usando la función *solve* de SciPy [[1]](#bib).\n",
    "* Haciendo uso de la inversa de A y el vector $\\mathbf{b}$. ($\\mathbf{x} = A^{-1} \\mathbf{b}$).\n",
    "\n",
    "Además, calcule el tiempo que demoran los dos métodos anteriores."
   ]
  },
  {
   "cell_type": "markdown",
   "metadata": {},
   "source": [
    "### Desarrollo P1"
   ]
  },
  {
   "cell_type": "markdown",
   "metadata": {},
   "source": [
    "El problema nº1 se puede representar de la siguiente manera:"
   ]
  },
  {
   "cell_type": "code",
   "execution_count": 2,
   "metadata": {},
   "outputs": [],
   "source": [
    "A_1 = np.array([[10,5,25],[20,10,10],[12,4,15]])\n",
    "b_1 = np.array([355,310,266])"
   ]
  },
  {
   "cell_type": "markdown",
   "metadata": {},
   "source": [
    "Y la resolución utilizando ambos métodos son:"
   ]
  },
  {
   "cell_type": "code",
   "execution_count": 3,
   "metadata": {},
   "outputs": [
    {
     "name": "stdout",
     "output_type": "stream",
     "text": [
      "Resultado A calculado en 0.029430389404296875s\n",
      "[ 8.  5. 10.]\n",
      "Resultado B calculado en 0.0002665519714355469s\n",
      "[ 8.  5. 10.]\n"
     ]
    }
   ],
   "source": [
    "stime = time.time()\n",
    "x_1_a = linalg.solve(A_1,b_1)\n",
    "time_a = time.time() - stime\n",
    "\n",
    "stime = time.time()\n",
    "x_1_b = np.linalg.inv(A_1).dot(b_1)\n",
    "time_b = time.time() - stime\n",
    "\n",
    "print(\"Resultado A calculado en %ss\"%time_a)\n",
    "print(x_1_a)\n",
    "\n",
    "print(\"Resultado B calculado en %ss\"%time_b)\n",
    "print(x_1_b)\n"
   ]
  },
  {
   "cell_type": "markdown",
   "metadata": {},
   "source": [
    "De este rasultado se concluye que el precio para las Vitaminas A, C y D es de 8, 5 y 10 pesos respectivamente.\n",
    "\n",
    "Además se nota que el tiempo de calculo al utilizar el segundo método es casi un tercio del primero."
   ]
  },
  {
   "cell_type": "markdown",
   "metadata": {},
   "source": [
    "El problema nº2 se puede representar de la siguiente manera:"
   ]
  },
  {
   "cell_type": "code",
   "execution_count": 4,
   "metadata": {},
   "outputs": [],
   "source": [
    "A_2 = np.array([\n",
    "    [6,-5,-7,-4,3,8],\n",
    "    [-7,4,7,1,-3,8],\n",
    "    [6,-3,7,-6,5,-6],\n",
    "    [8,-5,7,1,6,4],\n",
    "    [2,8,6,2,-8,3],\n",
    "    [-2,4,5,7,-6,-5]\n",
    "])\n",
    "b_2 = np.array([-44,8,104,44,-47,6])"
   ]
  },
  {
   "cell_type": "markdown",
   "metadata": {},
   "source": [
    "Y la resolución utilizando ambos métodos son:"
   ]
  },
  {
   "cell_type": "code",
   "execution_count": 5,
   "metadata": {},
   "outputs": [
    {
     "name": "stdout",
     "output_type": "stream",
     "text": [
      "Resultado A calculado en 0.0008788108825683594s\n",
      "[ -3.57156468 -10.47925247   7.77028948  -4.53395383  -2.29477464\n",
      "  -3.97829241]\n",
      "Resultado B calculado en 0.0002675056457519531s\n",
      "[ -3.57156468 -10.47925247   7.77028948  -4.53395383  -2.29477464\n",
      "  -3.97829241]\n"
     ]
    }
   ],
   "source": [
    "stime = time.time()\n",
    "x_2_a = linalg.solve(A_2,b_2)\n",
    "time_a = time.time() - stime\n",
    "\n",
    "stime = time.time()\n",
    "x_2_b = np.linalg.inv(A_2).dot(b_2)\n",
    "time_b = time.time() - stime\n",
    "\n",
    "print(\"Resultado A calculado en %ss\"%time_a)\n",
    "print(x_2_a)\n",
    "\n",
    "print(\"Resultado B calculado en %ss\"%time_b)\n",
    "print(x_2_b)\n"
   ]
  },
  {
   "cell_type": "markdown",
   "metadata": {},
   "source": [
    "Se vuelve a notar que el tiempo de calculo al utilizar el segundo método es menor."
   ]
  },
  {
   "cell_type": "markdown",
   "metadata": {},
   "source": [
    "## Pregunta 2 [30 Pts]"
   ]
  },
  {
   "cell_type": "markdown",
   "metadata": {},
   "source": [
    "La matriz de Hilbert es una matriz cuadrada que cuenta con la siguiente forma:\n",
    "\n",
    "$$\n",
    "H_{i,j} = \\frac{1}{i+j-1}, i,j = 1\\ldots n\n",
    "$$\n",
    "\n",
    "Construya la función *Hilbert(n)*, mediante la siguiente estructura:\n",
    "\n",
    "```python\n",
    "'''\n",
    "n - (integer) Matrix size\n",
    "H - (2D-array) Hilbert matrix\n",
    "x - (1D-array) Random vector x\n",
    "b - (1D-array) Vector result of Ax\n",
    "'''\n",
    "```\n",
    "```python     \n",
    "def Hilbert(n):\n",
    "    ...\n",
    "    return H, x, b\n",
    "```\n",
    "\n",
    "Esta función deberá retornar matrices de Hilbert, vectores $\\mathbf{x}$ de forma aleatoria (recuerde elegir una semilla para poder reproducir sus experimentos) y un vector $\\mathbf{b}$ construido a partir de $A\\mathbf{x} = \\mathbf{b}$. Se deberá mostrar a través de un gráfico los tiempos de resolución de cada método (usando la función *solve* de SciPy y resolviendo directamente $\\mathbf{x} = A^{-1} \\mathbf{b}$) para matrices de tamaño 10, 100, 300, 500, 700, 1000, 1300. Calcule el error de sus dos métodos con respecto al vector $\\mathbf{x}$ creado anteriormente y grafique el tamaño de la matriz vs el error. Concluya.\n",
    "\n",
    "Para los gráficos de tiempo, ocupe la función *loglog*, y para los de error *semilogy* [[2]](#bib)."
   ]
  },
  {
   "cell_type": "code",
   "execution_count": 6,
   "metadata": {},
   "outputs": [
    {
     "data": {
      "image/png": "[encoded data removed]",
      "text/plain": [
       "<matplotlib.figure.Figure at 0x7f4fac0a0780>"
      ]
     },
     "metadata": {},
     "output_type": "display_data"
    },
    {
     "data": {
      "image/png": "[encoded data removed]",
      "text/plain": [
       "<matplotlib.figure.Figure at 0x7f4f9d786b38>"
      ]
     },
     "metadata": {},
     "output_type": "display_data"
    }
   ],
   "source": [
    "np.random.seed(14)\n",
    "\n",
    "def solve(a,b):\n",
    "    # method 1\n",
    "    stime = time.time()\n",
    "    x_a = linalg.solve(a,b)\n",
    "    time_a = time.time() - stime\n",
    "\n",
    "    # method 2\n",
    "    stime = time.time()\n",
    "    x_b = np.linalg.inv(a).dot(b)\n",
    "    time_b = time.time() - stime\n",
    "    return (x_a, x_b, time_a, time_b)\n",
    "\n",
    "def Hilbert(n):\n",
    "    H = linalg.hilbert(n)\n",
    "    x = np.random.rand(n)\n",
    "    b = H.dot(x)\n",
    "    return H, x, b\n",
    "\n",
    "results_2 = [[],[],[],[]]\n",
    "r = [10, 100, 300, 500, 700, 1000, 1300]\n",
    "for i in r:\n",
    "    H, x, b = Hilbert(i)\n",
    "    x_a, x_b, t_a, t_b = solve(H,b)\n",
    "    mse_a = ((x - x_a) ** 2).mean()\n",
    "    mse_b = ((x - x_b) ** 2).mean()\n",
    "    results_2[0].append(mse_a)\n",
    "    results_2[1].append(mse_b)\n",
    "    results_2[2].append(t_a)\n",
    "    results_2[3].append(t_b)\n",
    "    \n",
    "plt.loglog(r,results_2[2],label=\"Método 1\")\n",
    "plt.loglog(r,results_2[3],label=\"Método 2\")\n",
    "plt.xlabel('Tamaño Matriz')\n",
    "plt.ylabel('Tiempo Resolución')\n",
    "plt.legend(loc='upper left')\n",
    "plt.grid(True)\n",
    "plt.title('Tiempo de Cálculo')\n",
    "plt.show()\n",
    "\n",
    "plt.semilogy(r,results_2[0],label=\"Método 1\")\n",
    "plt.semilogy(r,results_2[1],label=\"Método 2\")\n",
    "plt.xlabel('Tamaño Matriz')\n",
    "plt.ylabel('Error Cuadrado')\n",
    "plt.legend(loc='upper left')\n",
    "plt.grid(True)\n",
    "plt.title('Error de Cálculo')\n",
    "plt.show()\n",
    "    \n"
   ]
  },
  {
   "cell_type": "markdown",
   "metadata": {},
   "source": [
    "Como se comentó en la primera pregunta, el tiempo de resolución tomado por el segundo método es inicialmente menor, pero a medida que el tamaño de la matriz aumenta, el primer método pasa a ser el más rápido, esto puede ser explicado porque el algoritmo utilizado para la resolución del problema está optimizado para matrices de mayor tamaño, como las utilizadas en esta prueba (>1000).\n",
    "\n",
    "Además tambien se nota que el error obtenido por el primer método es mucho menor al del segundo."
   ]
  },
  {
   "cell_type": "markdown",
   "metadata": {},
   "source": [
    "## Pregunta 3 [40 Pts]"
   ]
  },
  {
   "cell_type": "markdown",
   "metadata": {},
   "source": [
    "Usando la función *Hilbert(n)* creada anteriormente, repita 50 veces cada método con matrices de tamaño 10, 100, 300, 500, 700, 1000, 1300, y guarde sus tiempos de ejecución. Con esta data, realice un gráfico de *boxplot* [[3]](#bib) de cada método (en total serán 14 *boxplots*), indicando claramente a que método corresponde cada boxplot. Una con una línea las medias de cada método en los boxplots mostrados y concluya."
   ]
  },
  {
   "cell_type": "code",
   "execution_count": 7,
   "metadata": {},
   "outputs": [
    {
     "data": {
      "image/png": "[encoded data removed]",
      "text/plain": [
       "<matplotlib.figure.Figure at 0x7f4f9d769630>"
      ]
     },
     "metadata": {},
     "output_type": "display_data"
    },
    {
     "data": {
      "image/png": "[encoded data removed]",
      "text/plain": [
       "<matplotlib.figure.Figure at 0x7f4f9d749860>"
      ]
     },
     "metadata": {},
     "output_type": "display_data"
    }
   ],
   "source": [
    "results_3 = [[],[]]\n",
    "\n",
    "for i in [10, 100, 300, 500, 700, 1000, 1300]:\n",
    "    t_a = []\n",
    "    t_b = []\n",
    "    for n in range(50):\n",
    "        H, x, b = Hilbert(i)\n",
    "        _, _, t_an, t_bn = solve(H,b)\n",
    "        t_a.append(t_an)\n",
    "        t_b.append(t_bn)\n",
    "        \n",
    "    results_3[0].append(t_a)\n",
    "    results_3[1].append(t_b)\n",
    "\n",
    "plt.boxplot(results_3[0])\n",
    "plt.xlabel('Tamaño Matriz')\n",
    "plt.ylabel('Segundos')\n",
    "plt.title('Tiempo de Cálculo Primer Método')\n",
    "plt.show()\n",
    "\n",
    "plt.boxplot(results_3[1])\n",
    "plt.xlabel('Tamaño Matriz')\n",
    "plt.ylabel('Segundos')\n",
    "plt.title('Tiempo de Cálculo Segundo Método')\n",
    "plt.show()\n"
   ]
  },
  {
   "cell_type": "markdown",
   "metadata": {},
   "source": [
    "Se los resultados siguen confirmando lo mencionado anteriormente, el primer método (utilizando linalg) tiene un mayor desempeño en la solución de los problemas presentados. Además se nota que la desviación de los tiempos para cada tamaño es levemente mayor para el segundo método."
   ]
  },
  {
   "cell_type": "markdown",
   "metadata": {},
   "source": [
    "# Instrucciones:\n",
    "\n",
    "* La estructura del laboratorio es la siguiente:\n",
    "     1. Título, nombre de estudiante, email y rol.\n",
    "     2. Introducción.\n",
    "     3. Desarrollo y análisis de resultados.\n",
    "     4. Conclusiones.\n",
    "     5. Referencias.\n",
    "* El laboratorio debe ser realizado en `Jupyter Notebook` (`Python3`).\n",
    "* Se evaluará la correcta utilización de librerias `NumPy`, `SciPy`, `SymPy`, `Matplotlib` y `ipywidgets`, así como la correcta implementación de algoritmos vectorizados.\n",
    "* El archivo de entrega debe denominarse Tarea1-rol.tar.gz y debe contener un directorio con todos los archivos necesarios para ejecutar el notebook, junto con un archivo README indicando explícitamente las librerías o módulos utilizados, nombre y rol del estudiante.\n",
    "* El descuento por día de atraso será de $30$ puntos, con un máximo de 1 día de atraso. No se recibirán entregas después de este día.\n",
    "* El trabajo es personal, no se permite compartir código ni utilizar código de otros, aunque sí se sugiere discutir aspectos generales con sus compañeros.\n",
    "* En caso de sospecha de no cumplimiento de estas instrucciones, se solicitará al involucrado o la involucrada a aclarar la situación. Dependiendo de la justificación se decidirá su calificación, la cual podrá o no ser penalizada.\n",
    "* El no seguir estas instrucciones, implica descuentos en su nota obtenida."
   ]
  },
  {
   "cell_type": "markdown",
   "metadata": {},
   "source": [
    "<a id='bib'></a>\n",
    "## Referencias\n",
    "\n",
    "* 1.- <a href=https://docs.scipy.org/doc/scipy-0.14.0/reference/generated/scipy.linalg.solve.html>[1] Documentación del método *solve* de  SciPy </a>\n",
    "* 2.- <a href=https://matplotlib.org/examples/pylab_examples/log_demo.html>[2] Gráficos con *semilogy* y *loglog* </a>\n",
    "* 3.- <a href=https://stackoverflow.com/questions/16592222/matplotlib-group-boxplots>[3] Crear grupos de boxplots </a>"
   ]
  }
 ],
 "metadata": {
  "kernelspec": {
   "display_name": "Python 3",
   "language": "python",
   "name": "python3"
  },
  "language_info": {
   "codemirror_mode": {
    "name": "ipython",
    "version": 3
   },
   "file_extension": ".py",
   "mimetype": "text/x-python",
   "name": "python",
   "nbconvert_exporter": "python",
   "pygments_lexer": "ipython3",
   "version": "3.6.4"
  }
 },
 "nbformat": 4,
 "nbformat_minor": 1
}
