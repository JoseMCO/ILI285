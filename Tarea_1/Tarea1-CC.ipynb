{
 "cells": [
  {
   "cell_type": "markdown",
   "metadata": {},
   "source": [
    "<img src=\"escudo_utfsm.gif\" style=\"float:right;height:100px\">\n",
    "<img src=\"IsotipoDIisocolor.png\" style=\"float:left;height:100px\">\n",
    "<center>\n",
    "    <h1> ILI285/INF285 Computación Científica </h1>\n",
    "    <h1> Tarea N°1: Introducción a Jupyter Notebook </h1>\n",
    "    <h3> [S]cientific [C]omputing [T]eam 2018</h3>\n",
    "</center>\n",
    "\n",
    "<p>\n",
    "<center>_Marzo 2018_ </center>\n",
    "</p>"
   ]
  },
  {
   "cell_type": "code",
   "execution_count": null,
   "metadata": {
    "collapsed": true
   },
   "outputs": [],
   "source": [
    "%matplotlib inline\n",
    "import numpy as np\n",
    "import matplotlib.pyplot as plt\n",
    "from scipy import linalg\n",
    "import time"
   ]
  },
  {
   "cell_type": "markdown",
   "metadata": {},
   "source": [
    "## Introducción"
   ]
  },
  {
   "cell_type": "markdown",
   "metadata": {},
   "source": [
    "El objetivo de este laboratorio es familiarizarse con la herramienta Jupyter notebook, esta es una plataforma web que permite crear y compartir documentos que contienen código fuente, ecuaciones, visualizaciones y texto explicativo.\n",
    "El lenguaje de programación a utilizar será Python, es una buena alternativa debido a que Python posee muchos modulos especializados en algebra lineal, metodos numericos, vizualizcción de datos,etc. "
   ]
  },
  {
   "cell_type": "markdown",
   "metadata": {},
   "source": [
    "## Pregunta 1 [20 Pts]"
   ]
  },
  {
   "cell_type": "markdown",
   "metadata": {},
   "source": [
    "1) Una farmacia vende 10 frascos de vitamina A, 5 frascos de vitamina C y 25 frascos de vitamina D, todo por un valor de 355 pesos. Además, vende 20 frascos de vitamina A, 10 de vitamina C y 10 de vitamina D por un total de 310 pesos. Por otra parte vende 12 frascos de vitamina A, 4 de vitamina C y 15 de vitamina D por un total de 266 pesos. Encuentra el costo correspondiente a cada frasco de las vitaminas A, C y D."
   ]
  },
  {
   "cell_type": "markdown",
   "metadata": {},
   "source": [
    "2) Se tiene el siguiente sistema de ecuaciones:\n",
    "\n",
    "\\begin{align}\n",
    "6x_1 - 5x_2 - 7x_3 - 4x_4 + 3x_5 + 8x_6 &= -44 \\\\\n",
    "-7x_1 + 4x_2 + 7x_3 + 1x_4 - 3x_5 + 8x_6 &= 8 \\\\\n",
    "6x_1 - 3x_2 + 7x_3 - 6x_4 + 5x_5 - 6x_6 &= 104 \\\\\n",
    "8x_1 - 5x_2 + 7x_3 + x_4 - 6x_5 + 4x_6 &= 44\\\\\n",
    "2x_1 + 8x_2 + 6x_3 + 2x_4 - 8x_5 + 3x_6 &= -47\\\\\n",
    "-2x_1 + 4x_2 + 5x_3 + 7x_4 - 6x_5 - 5x_6 &= 6\n",
    "\\end{align}"
   ]
  },
  {
   "cell_type": "markdown",
   "metadata": {},
   "source": [
    "Represente ambos problemas como un sistema matricial, es decir de la forma $A\\mathbf{x}$ = $ \\mathbf{b}$ , luego encuentre los valores del vector $\\mathbf{x}$: \n",
    "* Usando la función *solve* de SciPy [[1]](#bib).\n",
    "* Haciendo uso de la inversa de A y el vector $\\mathbf{b}$. ($\\mathbf{x} = A^{-1} \\mathbf{b}$).\n",
    "\n",
    "Además, calcule el tiempo que demoran los dos métodos anteriores."
   ]
  },
  {
   "cell_type": "markdown",
   "metadata": {},
   "source": [
    "## Pregunta 2 [30 Pts]"
   ]
  },
  {
   "cell_type": "markdown",
   "metadata": {},
   "source": [
    "La matriz de Hilbert es una matriz cuadrada que cuenta con la siguiente forma:\n",
    "\n",
    "$$\n",
    "H_{i,j} = \\frac{1}{i+j-1}, i,j = 1\\ldots n\n",
    "$$\n",
    "\n",
    "Construya la función *Hilbert(n)*, mediante la siguiente estructura:\n",
    "\n",
    "```python\n",
    "'''\n",
    "n - (integer) Matrix size\n",
    "H - (2D-array) Hilbert matrix\n",
    "x - (1D-array) Random vector x\n",
    "b - (1D-array) Vector result of Ax\n",
    "'''\n",
    "```\n",
    "```python     \n",
    "def Hilbert(n):\n",
    "    ...\n",
    "    return H, x, b\n",
    "```\n",
    "\n",
    "Esta función deberá retornar matrices de Hilbert, vectores $\\mathbf{x}$ de forma aleatoria (recuerde elegir una semilla para poder reproducir sus experimentos) y un vector $\\mathbf{b}$ construido a partir de $A\\mathbf{x} = \\mathbf{b}$. Se deberá mostrar a través de un gráfico los tiempos de resolución de cada método (usando la función *solve* de SciPy y resolviendo directamente $\\mathbf{x} = A^{-1} \\mathbf{b}$) para matrices de tamaño 10, 100, 300, 500, 700, 1000, 1300. Calcule el error de sus dos métodos con respecto al vector $\\mathbf{x}$ creado anteriormente y grafique el tamaño de la matriz vs el error. Concluya.\n",
    "\n",
    "Para los gráficos de tiempo, ocupe la función *loglog*, y para los de error *semilogy* [[2]](#bib)."
   ]
  },
  {
   "cell_type": "markdown",
   "metadata": {},
   "source": [
    "## Pregunta 3 [40 Pts]"
   ]
  },
  {
   "cell_type": "markdown",
   "metadata": {},
   "source": [
    "Usando la función *Hilbert(n)* creada anteriormente, repita 50 veces cada método con matrices de tamaño 10, 100, 300, 500, 700, 1000, 1300, y guarde sus tiempos de ejecución. Con esta data, realice un gráfico de *boxplot* [[3]](#bib) de cada método (en total serán 14 *boxplots*), indicando claramente a que método corresponde cada boxplot. Una con una línea las medias de cada método en los boxplots mostrados y concluya."
   ]
  },
  {
   "cell_type": "markdown",
   "metadata": {},
   "source": [
    "# Instrucciones:\n",
    "\n",
    "* La estructura del laboratorio es la siguiente:\n",
    "     1. Título, nombre de estudiante, email y rol.\n",
    "     2. Introducción.\n",
    "     3. Desarrollo y análisis de resultados.\n",
    "     4. Conclusiones.\n",
    "     5. Referencias.\n",
    "* El laboratorio debe ser realizado en `Jupyter Notebook` (`Python3`).\n",
    "* Se evaluará la correcta utilización de librerias `NumPy`, `SciPy`, `SymPy`, `Matplotlib` y `ipywidgets`, así como la correcta implementación de algoritmos vectorizados.\n",
    "* El archivo de entrega debe denominarse Tarea1-rol.tar.gz y debe contener un directorio con todos los archivos necesarios para ejecutar el notebook, junto con un archivo README indicando explícitamente las librerías o módulos utilizados, nombre y rol del estudiante.\n",
    "* El descuento por día de atraso será de $30$ puntos, con un máximo de 1 día de atraso. No se recibirán entregas después de este día.\n",
    "* El trabajo es personal, no se permite compartir código ni utilizar código de otros, aunque sí se sugiere discutir aspectos generales con sus compañeros.\n",
    "* En caso de sospecha de no cumplimiento de estas instrucciones, se solicitará al involucrado o la involucrada a aclarar la situación. Dependiendo de la justificación se decidirá su calificación, la cual podrá o no ser penalizada.\n",
    "* El no seguir estas instrucciones, implica descuentos en su nota obtenida."
   ]
  },
  {
   "cell_type": "markdown",
   "metadata": {},
   "source": [
    "<a id='bib'></a>\n",
    "## Referencias\n",
    "\n",
    "* 1.- <a href=https://docs.scipy.org/doc/scipy-0.14.0/reference/generated/scipy.linalg.solve.html>[1] Documentación del método *solve* de  SciPy </a>\n",
    "* 2.- <a href=https://matplotlib.org/examples/pylab_examples/log_demo.html>[2] Gráficos con *semilogy* y *loglog* </a>\n",
    "* 3.- <a href=https://stackoverflow.com/questions/16592222/matplotlib-group-boxplots>[3] Crear grupos de boxplots </a>"
   ]
  }
 ],
 "metadata": {
  "kernelspec": {
   "display_name": "Python 3",
   "language": "python",
   "name": "python3"
  },
  "language_info": {
   "codemirror_mode": {
    "name": "ipython",
    "version": 3
   },
   "file_extension": ".py",
   "mimetype": "text/x-python",
   "name": "python",
   "nbconvert_exporter": "python",
   "pygments_lexer": "ipython3",
   "version": "3.5.4"
  }
 },
 "nbformat": 4,
 "nbformat_minor": 1
}
